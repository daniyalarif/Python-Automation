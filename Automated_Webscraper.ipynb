{
 "cells": [
  {
   "cell_type": "markdown",
   "metadata": {},
   "source": [
    "# Python - Selenium for Automation"
   ]
  },
  {
   "cell_type": "markdown",
   "metadata": {},
   "source": [
    "### Importing Libraries"
   ]
  },
  {
   "cell_type": "code",
   "execution_count": null,
   "metadata": {},
   "outputs": [],
   "source": [
    "# importing libraries\n",
    "import random\n",
    "import time\n",
    "import pandas as pd\n",
    "import numpy as np\n",
    "from selenium.webdriver import ActionChains\n",
    "from selenium import webdriver\n",
    "from selenium.webdriver.support.select import Select\n",
    "from bs4 import BeautifulSoup\n",
    "from ipynb.fs.full.Table_Function import * # Importing function from a Python file"
   ]
  },
  {
   "cell_type": "markdown",
   "metadata": {},
   "source": [
    "## Bachelor"
   ]
  },
  {
   "cell_type": "markdown",
   "metadata": {},
   "source": [
    "##### Bachelor Enrolled"
   ]
  },
  {
   "cell_type": "code",
   "execution_count": null,
   "metadata": {},
   "outputs": [],
   "source": [
    "# opening the selenium driver\n",
    "driver=webdriver.Chrome('D:\\webdrivers\\chromedriver.exe')\n",
    "\n",
    "#opening the website\n",
    "driver.get('https://dbh.nsd.uib.no/statistikk/rapport.action?visningId=135&visKode=false&admdebug=false&columns=arstall&index=1&formel=311&hier=insttype!9!instkode!9!fakkode!9!ufakkode!9!progkode&sti=&param=arstall%3D2021!8!2020!8!2019!8!2018!8!2017!9!dep_id%3D1!9!nivakode%3DB3!8!B4')\n",
    "driver.maximize_window()\n",
    "\n",
    "#sleep 3 sec\n",
    "time.sleep(2)\n",
    "\n",
    "clinks_p1 = driver.find_elements_by_xpath(\"//td[@class='text']/a\") # links to capture from page/complete lists page 1\n",
    "\n",
    "list_links_l1 = [] # created list to store links level 1\n",
    "list_links_l2 = [] # created list to store links level 2\n",
    "list_links_l3 = [] # created list to store links level 3\n",
    "list_links_l4 = [] # created list to store links level 4\n",
    "\n",
    "for i in clinks_p1: # complete lists page 1\n",
    "    list_links_l1.append(i.get_attribute('href')) \n",
    "    \n",
    "for i in range(len(list_links_l1)): # from page 1 \n",
    "    \n",
    "    driver.get(list_links_l1[i]) # page 2 opened \n",
    "    time.sleep(2)\n",
    "    clinks_p2 = driver.find_elements_by_xpath(\"//td[@class='text']/a\") # aggregating page 2 links from only university\n",
    "    #Show All links available in clinks_p2\n",
    "    \n",
    "    for j in clinks_p2:\n",
    "        list_links_l2.append(j.get_attribute('href'))\n",
    "        \n",
    "\n",
    "for i in range(len(list_links_l2)): # from page 2 \n",
    "    \n",
    "    driver.get(list_links_l2[i]) # page 2 opened \n",
    "    time.sleep(2)\n",
    "    clinks_p3 = driver.find_elements_by_xpath(\"//td[@class='text']/a\") # aggregating page 2 links from only university\n",
    "       \n",
    "    for j in clinks_p3:\n",
    "        list_links_l3.append(j.get_attribute('href'))        \n",
    "        \n",
    "for i in range(len(list_links_l3)): # from page 3 \n",
    "    \n",
    "    driver.get(list_links_l3[i]) # page 2 opened \n",
    "    time.sleep(2)\n",
    "    clinks_p4 = driver.find_elements_by_xpath(\"//td[@class='text']/a\") # aggregating page 2 links from only university\n",
    "       \n",
    "    for j in clinks_p4:\n",
    "        list_links_l4.append(j.get_attribute('href'))        \n",
    "\n",
    "list_c = [] # list to store tables        \n",
    "\n",
    "for i in range(len(list_links_l4)):\n",
    "    driver.get(list_links_l4[i])\n",
    "    time.sleep(2)\n",
    "    l4_uni = driver.find_element_by_xpath('//*[@id=\"rapportSmuler\"]/a[3]').text   \n",
    "    tbl = table()\n",
    "    list_c.append(tbl)\n",
    "    \n",
    "data_final = pd.concat(list_c)\n",
    "data_final.reset_index(inplace=True)\n",
    "data_final = data_final.replace(np.nan, '', regex=True)\n",
    "data_final.to_excel(\"Data_Bachelor_Enrolled.xlsx\")\n",
    "\n",
    "\n",
    "driver.quit() "
   ]
  }
 ],
 "metadata": {
  "kernelspec": {
   "display_name": "Python 3",
   "language": "python",
   "name": "python3"
  },
  "language_info": {
   "codemirror_mode": {
    "name": "ipython",
    "version": 3
   },
   "file_extension": ".py",
   "mimetype": "text/x-python",
   "name": "python",
   "nbconvert_exporter": "python",
   "pygments_lexer": "ipython3",
   "version": "3.7.3"
  }
 },
 "nbformat": 4,
 "nbformat_minor": 2
}
