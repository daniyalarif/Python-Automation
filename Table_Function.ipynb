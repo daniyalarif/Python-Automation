{
 "cells": [
  {
   "cell_type": "markdown",
   "metadata": {},
   "source": [
    "## Making Table as function\n",
    "\n",
    "*Webscraping table from webpage*\n"
   ]
  },
  {
   "cell_type": "code",
   "execution_count": 1,
   "metadata": {},
   "outputs": [],
   "source": [
    "def table():\n",
    "    row_count = len(driver.find_elements_by_xpath('//*[@id=\"rapportDatasett\"]/table/tbody/tr'))\n",
    "    col_count = len(driver.find_elements_by_xpath('//*[@id=\"rapportDatasett\"]/table/thead/tr[1]/th'))\n",
    "\n",
    "    #list of table headers\n",
    "    list_headers = []\n",
    "\n",
    "    thead_first_part = \"//*[@id='rapportDatasett']/table/thead/tr[1]/th[\"\n",
    "    thead_second_part = \"]\"\n",
    "\n",
    "    for n in range(1,col_count+1):\n",
    "        thead_final_path = thead_first_part + str(n) + thead_second_part\n",
    "        thead_table_data = driver.find_element_by_xpath(thead_final_path).text\n",
    "        list_headers.append(thead_table_data)\n",
    "\n",
    "    #list of elements of the table\n",
    "    elements = []\n",
    "\n",
    "    first_part = \"//*[@id='rapportDatasett']/table/tbody/tr[\"\n",
    "    second_part = \"]/td[\"\n",
    "    third_part = \"]\"\n",
    "\n",
    "    for n in range(1,row_count):\n",
    "        for m in range(1,col_count+1):\n",
    "            final_path = first_part + str(n) + second_part + str(m) + third_part\n",
    "            table_data = driver.find_element_by_xpath(final_path).text\n",
    "            elements.append(table_data)      \n",
    "\n",
    "    # making elements to data frame\n",
    "    div = int(len(elements)/(len(list_headers)))\n",
    "    list_ele = np.array_split(elements, div)\n",
    "    list_headers = np.array(list_headers)\n",
    "    df2 = pd.DataFrame(data=list_ele)\n",
    "    df1 = pd.DataFrame(data=list_headers)\n",
    "    df1=df1.transpose()\n",
    "    df = pd.concat([df1, df2])\n",
    "    df.columns = df.iloc[0]\n",
    "    df = df[1:]\n",
    "\n",
    "    level_1 = pd.DataFrame([l4_uni] * int(df.shape[0])) # changed\n",
    "    level_1.rename(columns={0: 'Institusjonsnavn'}, inplace=True)\n",
    "\n",
    "    df_2 = pd.concat([level_1, df], axis=1)\n",
    "    return df_2"
   ]
  }
 ],
 "metadata": {
  "kernelspec": {
   "display_name": "Python 3",
   "language": "python",
   "name": "python3"
  },
  "language_info": {
   "codemirror_mode": {
    "name": "ipython",
    "version": 3
   },
   "file_extension": ".py",
   "mimetype": "text/x-python",
   "name": "python",
   "nbconvert_exporter": "python",
   "pygments_lexer": "ipython3",
   "version": "3.7.3"
  }
 },
 "nbformat": 4,
 "nbformat_minor": 2
}
